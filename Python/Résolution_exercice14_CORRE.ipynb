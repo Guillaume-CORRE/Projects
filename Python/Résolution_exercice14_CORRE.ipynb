{
 "cells": [
  {
   "cell_type": "code",
   "execution_count": 1,
   "metadata": {},
   "outputs": [
    {
     "name": "stdout",
     "output_type": "stream",
     "text": [
      "Restricted license - for non-production use only - expires 2022-01-13\n"
     ]
    }
   ],
   "source": [
    "import modelisationf as md\n",
    "from importlib import reload"
   ]
  },
  {
   "cell_type": "markdown",
   "metadata": {},
   "source": [
    "# Résolution de l'exercice 14 (Programmation linéaire)"
   ]
  },
  {
   "cell_type": "code",
   "execution_count": 6,
   "metadata": {},
   "outputs": [
    {
     "data": {
      "text/plain": [
       "<module 'modelisationf' from 'C:\\\\Users\\\\Guillaume CORRE\\\\Supply_Chain\\\\Sujets\\\\Exercice_14\\\\modelisationf.py'>"
      ]
     },
     "execution_count": 6,
     "metadata": {},
     "output_type": "execute_result"
    }
   ],
   "source": [
    "reload(md)"
   ]
  },
  {
   "cell_type": "markdown",
   "metadata": {},
   "source": [
    "### Choix du nombre d'années sur lesquelles on veut observer notre économie à 3 industries (5 années pour le modèle particulier)"
   ]
  },
  {
   "cell_type": "code",
   "execution_count": 2,
   "metadata": {},
   "outputs": [
    {
     "name": "stdin",
     "output_type": "stream",
     "text": [
      "Sur combien d'années voulez-vous maximiser ? 5\n"
     ]
    }
   ],
   "source": [
    "nombre_année = int(input(\"Sur combien d'années voulez-vous maximiser ?\"))\n",
    "if nombre_année <= 3:\n",
    "    print(\"Renseignez au moins 3 années ! :)\" )\n",
    "    nombre_année= int(input())"
   ]
  },
  {
   "cell_type": "markdown",
   "metadata": {},
   "source": [
    "### Choix de la quantité de main d'oeuvre disponible par année pour notre économie (470 pour le modèle particulier)"
   ]
  },
  {
   "cell_type": "code",
   "execution_count": 3,
   "metadata": {},
   "outputs": [
    {
     "name": "stdin",
     "output_type": "stream",
     "text": [
      "Quelle est la main d'oeuvre par an (minimum 200) ? 470\n"
     ]
    }
   ],
   "source": [
    "# main oeuvre capacite maximale\n",
    "main_oeuvre_cap = int(input(\"Quelle est la main d'oeuvre par an (minimum 200) ?\"))\n",
    "if main_oeuvre_cap <= 200:\n",
    "    print(\"Il faut renseigner une valeur supérieur à 200\")\n",
    "    main_oeuvre_cap= int(input())"
   ]
  },
  {
   "cell_type": "markdown",
   "metadata": {},
   "source": [
    "## Modèle statique "
   ]
  },
  {
   "cell_type": "code",
   "execution_count": 4,
   "metadata": {},
   "outputs": [
    {
     "name": "stdout",
     "output_type": "stream",
     "text": [
      "Les résultats pour le modèle statique sont : \n",
      " 166.40 unités de charbon \n",
      " 105.67 unités de acier \n",
      " 92.31 unités de transport \n"
     ]
    }
   ],
   "source": [
    "md.resultat_statique(md.resolution_statique(md.statique))"
   ]
  },
  {
   "cell_type": "markdown",
   "metadata": {},
   "source": [
    "## Maximisation de la capacité de production à la dernière année "
   ]
  },
  {
   "cell_type": "code",
   "execution_count": 5,
   "metadata": {},
   "outputs": [
    {
     "name": "stdout",
     "output_type": "stream",
     "text": [
      "Voici le tableau des capacité de production par années et par industries : \n"
     ]
    },
    {
     "data": {
      "text/html": [
       "<div>\n",
       "<style scoped>\n",
       "    .dataframe tbody tr th:only-of-type {\n",
       "        vertical-align: middle;\n",
       "    }\n",
       "\n",
       "    .dataframe tbody tr th {\n",
       "        vertical-align: top;\n",
       "    }\n",
       "\n",
       "    .dataframe thead th {\n",
       "        text-align: right;\n",
       "    }\n",
       "</style>\n",
       "<table border=\"1\" class=\"dataframe\">\n",
       "  <thead>\n",
       "    <tr style=\"text-align: right;\">\n",
       "      <th></th>\n",
       "      <th>charbon</th>\n",
       "      <th>acier</th>\n",
       "      <th>transport</th>\n",
       "    </tr>\n",
       "  </thead>\n",
       "  <tbody>\n",
       "    <tr>\n",
       "      <th>Année 1</th>\n",
       "      <td>300.00</td>\n",
       "      <td>350.00</td>\n",
       "      <td>280.00</td>\n",
       "    </tr>\n",
       "    <tr>\n",
       "      <th>Année 2</th>\n",
       "      <td>300.00</td>\n",
       "      <td>350.00</td>\n",
       "      <td>280.00</td>\n",
       "    </tr>\n",
       "    <tr>\n",
       "      <th>Année 3</th>\n",
       "      <td>300.00</td>\n",
       "      <td>350.00</td>\n",
       "      <td>280.00</td>\n",
       "    </tr>\n",
       "    <tr>\n",
       "      <th>Année 4</th>\n",
       "      <td>489.20</td>\n",
       "      <td>350.00</td>\n",
       "      <td>280.00</td>\n",
       "    </tr>\n",
       "    <tr>\n",
       "      <th>Année 5</th>\n",
       "      <td>1,511.88</td>\n",
       "      <td>350.00</td>\n",
       "      <td>280.00</td>\n",
       "    </tr>\n",
       "  </tbody>\n",
       "</table>\n",
       "</div>"
      ],
      "text/plain": [
       "          charbon   acier transport\n",
       "Année 1    300.00  350.00    280.00\n",
       "Année 2    300.00  350.00    280.00\n",
       "Année 3    300.00  350.00    280.00\n",
       "Année 4    489.20  350.00    280.00\n",
       "Année 5  1,511.88  350.00    280.00"
      ]
     },
     "execution_count": 5,
     "metadata": {},
     "output_type": "execute_result"
    }
   ],
   "source": [
    "print(\"Voici le tableau des capacité de production par années et par industries : \")\n",
    "md.resultat_modele_1(md.resolution_modele1_3(md.modele1,nombre_année, main_oeuvre_cap)[2], nombre_année) "
   ]
  },
  {
   "cell_type": "code",
   "execution_count": 6,
   "metadata": {},
   "outputs": [
    {
     "name": "stdout",
     "output_type": "stream",
     "text": [
      "La valeur totale maximisée de capacité de production à l'année 5 est de : 2141.88 millions\n"
     ]
    }
   ],
   "source": [
    "print(\"La valeur totale maximisée de capacité de production à l'année\", nombre_année,\"est de :\", round(md.resolution_modele1_3(md.modele1,nombre_année,main_oeuvre_cap)[3],2),'millions')"
   ]
  },
  {
   "cell_type": "markdown",
   "metadata": {},
   "source": [
    "**L'industrie qui augmente ces capacités est le charbon. Ce résultat est logique du fait que pour augmenter la capacité de production de charbon, cela coûte 0 charbon donc forcément cette industrie sera maximisée.**"
   ]
  },
  {
   "cell_type": "markdown",
   "metadata": {},
   "source": [
    "## Maximisation de la production aux deux dernières années :"
   ]
  },
  {
   "cell_type": "code",
   "execution_count": 7,
   "metadata": {},
   "outputs": [
    {
     "name": "stdout",
     "output_type": "stream",
     "text": [
      "Voici le tableau des production par années et par industries : \n"
     ]
    },
    {
     "data": {
      "text/html": [
       "<div>\n",
       "<style scoped>\n",
       "    .dataframe tbody tr th:only-of-type {\n",
       "        vertical-align: middle;\n",
       "    }\n",
       "\n",
       "    .dataframe tbody tr th {\n",
       "        vertical-align: top;\n",
       "    }\n",
       "\n",
       "    .dataframe thead th {\n",
       "        text-align: right;\n",
       "    }\n",
       "</style>\n",
       "<table border=\"1\" class=\"dataframe\">\n",
       "  <thead>\n",
       "    <tr style=\"text-align: right;\">\n",
       "      <th></th>\n",
       "      <th>charbon</th>\n",
       "      <th>acier</th>\n",
       "      <th>transport</th>\n",
       "    </tr>\n",
       "  </thead>\n",
       "  <tbody>\n",
       "    <tr>\n",
       "      <th>Année 1</th>\n",
       "      <td>300.00</td>\n",
       "      <td>86.73</td>\n",
       "      <td>141.31</td>\n",
       "    </tr>\n",
       "    <tr>\n",
       "      <th>Année 2</th>\n",
       "      <td>315.32</td>\n",
       "      <td>155.34</td>\n",
       "      <td>198.39</td>\n",
       "    </tr>\n",
       "    <tr>\n",
       "      <th>Année 3</th>\n",
       "      <td>430.50</td>\n",
       "      <td>182.87</td>\n",
       "      <td>225.92</td>\n",
       "    </tr>\n",
       "    <tr>\n",
       "      <th>Année 4</th>\n",
       "      <td>430.50</td>\n",
       "      <td>359.40</td>\n",
       "      <td>519.38</td>\n",
       "    </tr>\n",
       "    <tr>\n",
       "      <th>Année 5</th>\n",
       "      <td>430.50</td>\n",
       "      <td>359.40</td>\n",
       "      <td>519.38</td>\n",
       "    </tr>\n",
       "  </tbody>\n",
       "</table>\n",
       "</div>"
      ],
      "text/plain": [
       "        charbon   acier transport\n",
       "Année 1  300.00   86.73    141.31\n",
       "Année 2  315.32  155.34    198.39\n",
       "Année 3  430.50  182.87    225.92\n",
       "Année 4  430.50  359.40    519.38\n",
       "Année 5  430.50  359.40    519.38"
      ]
     },
     "execution_count": 7,
     "metadata": {},
     "output_type": "execute_result"
    }
   ],
   "source": [
    "print(\"Voici le tableau des production par années et par industries : \")\n",
    "md.resultat_modele_2(md.resolution_modele2(md.modele2,nombre_année,main_oeuvre_cap)[0], nombre_année)"
   ]
  },
  {
   "cell_type": "code",
   "execution_count": 8,
   "metadata": {},
   "outputs": [
    {
     "name": "stdout",
     "output_type": "stream",
     "text": [
      "La valeur totale maximisée de production aux deux dernières années est de 2618.58 millions\n"
     ]
    }
   ],
   "source": [
    "print(\"La valeur totale maximisée de production aux deux dernières années est de\", round(md.resolution_modele2(md.modele2,nombre_année,main_oeuvre_cap)[2],2),'millions')"
   ]
  },
  {
   "cell_type": "markdown",
   "metadata": {},
   "source": [
    " **Cette fois-ci, c'est le transport qui va être maximisé car il a des coûts de production plus faible que les autres.**"
   ]
  },
  {
   "cell_type": "markdown",
   "metadata": {},
   "source": [
    "## Maximisation de la main d'oeuvre"
   ]
  },
  {
   "cell_type": "code",
   "execution_count": 9,
   "metadata": {},
   "outputs": [
    {
     "name": "stdout",
     "output_type": "stream",
     "text": [
      "Voici le tableau de la main d'oeuvre utilisée par années et par industries : \n"
     ]
    },
    {
     "data": {
      "text/html": [
       "<div>\n",
       "<style scoped>\n",
       "    .dataframe tbody tr th:only-of-type {\n",
       "        vertical-align: middle;\n",
       "    }\n",
       "\n",
       "    .dataframe tbody tr th {\n",
       "        vertical-align: top;\n",
       "    }\n",
       "\n",
       "    .dataframe thead th {\n",
       "        text-align: right;\n",
       "    }\n",
       "</style>\n",
       "<table border=\"1\" class=\"dataframe\">\n",
       "  <thead>\n",
       "    <tr style=\"text-align: right;\">\n",
       "      <th></th>\n",
       "      <th>charbon</th>\n",
       "      <th>acier</th>\n",
       "      <th>transport</th>\n",
       "      <th>Total</th>\n",
       "    </tr>\n",
       "  </thead>\n",
       "  <tbody>\n",
       "    <tr>\n",
       "      <th>Année 1</th>\n",
       "      <td>160.68</td>\n",
       "      <td>54.93</td>\n",
       "      <td>42.96</td>\n",
       "      <td>258.57</td>\n",
       "    </tr>\n",
       "    <tr>\n",
       "      <th>Année 2</th>\n",
       "      <td>306.88</td>\n",
       "      <td>54.99</td>\n",
       "      <td>43.06</td>\n",
       "      <td>404.93</td>\n",
       "    </tr>\n",
       "    <tr>\n",
       "      <th>Année 3</th>\n",
       "      <td>371.56</td>\n",
       "      <td>55.80</td>\n",
       "      <td>42.64</td>\n",
       "      <td>470.00</td>\n",
       "    </tr>\n",
       "    <tr>\n",
       "      <th>Année 4</th>\n",
       "      <td>343.14</td>\n",
       "      <td>87.06</td>\n",
       "      <td>39.80</td>\n",
       "      <td>470.00</td>\n",
       "    </tr>\n",
       "    <tr>\n",
       "      <th>Année 5</th>\n",
       "      <td>346.56</td>\n",
       "      <td>105.00</td>\n",
       "      <td>18.46</td>\n",
       "      <td>470.02</td>\n",
       "    </tr>\n",
       "  </tbody>\n",
       "</table>\n",
       "</div>"
      ],
      "text/plain": [
       "         charbon   acier  transport   Total\n",
       "Année 1   160.68   54.93      42.96  258.57\n",
       "Année 2   306.88   54.99      43.06  404.93\n",
       "Année 3   371.56   55.80      42.64  470.00\n",
       "Année 4   343.14   87.06      39.80  470.00\n",
       "Année 5   346.56  105.00      18.46  470.02"
      ]
     },
     "execution_count": 9,
     "metadata": {},
     "output_type": "execute_result"
    }
   ],
   "source": [
    "print(\"Voici le tableau de la main d'oeuvre utilisée par années et par industries : \")\n",
    "md.resultat_modele_3(md.resolution_modele1_3(md.modele3,nombre_année,main_oeuvre_cap)[0],md.resolution_modele1_3(md.modele3,nombre_année,main_oeuvre_cap)[1],nombre_année)"
   ]
  },
  {
   "cell_type": "code",
   "execution_count": 10,
   "metadata": {},
   "outputs": [
    {
     "name": "stdout",
     "output_type": "stream",
     "text": [
      "La valeur totale maximisée de main d'oeuvre est de : 2073.47 millions\n"
     ]
    }
   ],
   "source": [
    "print(\"La valeur totale maximisée de main d'oeuvre est de :\", round(md.resolution_modele1_3(md.modele3,nombre_année,main_oeuvre_cap)[3],2),'millions')"
   ]
  },
  {
   "cell_type": "markdown",
   "metadata": {},
   "source": [
    "**Comme à la question 1, c'est le charbon qui est maximisé car ses coûts de main d'oeuvre sont les plus élevés.**"
   ]
  },
  {
   "cell_type": "markdown",
   "metadata": {},
   "source": [
    "## Création d'une mini application\n",
    "\n",
    "L'objectif de cette mini application est de pouvoir laisser l'utilisateur choisir quelle variable il veut maximiser (La capacité de production, la production ou bien la main d'oeuvre) pour le nombre d'année et la quantité de main d'oeuvre qu'il veut.\n",
    "\n",
    "Pour ce faire, il suffit de lancer la ligne de commande et d'ouvir l'icone pour ouvrir la fenêtre graphique du programme\n",
    "\n",
    "Dans la première case, il faut rentrer le nombre d'année que l'on veut\n",
    "\n",
    "Dans la seconde, la main_oeuvre disponible par année\n",
    "\n",
    "Ensuite, grâce au menu déroulant, il est possible de choisir la variable à maximiser. \n",
    "\n",
    "**Gestion de l'erreur :** \n",
    "- Si l'utilisateur ne rentre pas une valeur supérieur à 3 pour le nombre d'année, alors un message d'erreur apparaitra afin de lui indiquer de changer cette valeur\n",
    "- De même pour le choix de la main d'oeuvre : si celle-ci est inférieur à une certaine valeur, alors il est impossible de produire assez d'input pendant une année et donc le programme ne peux pas marcher. Un message d'erreur apparaitra pour lui indiquer de rentrer une autre valeur."
   ]
  },
  {
   "cell_type": "code",
   "execution_count": 11,
   "metadata": {},
   "outputs": [],
   "source": [
    "from application import minitest"
   ]
  }
 ],
 "metadata": {
  "kernelspec": {
   "display_name": "Python 3",
   "language": "python",
   "name": "python3"
  },
  "language_info": {
   "codemirror_mode": {
    "name": "ipython",
    "version": 3
   },
   "file_extension": ".py",
   "mimetype": "text/x-python",
   "name": "python",
   "nbconvert_exporter": "python",
   "pygments_lexer": "ipython3",
   "version": "3.8.3"
  }
 },
 "nbformat": 4,
 "nbformat_minor": 4
}
