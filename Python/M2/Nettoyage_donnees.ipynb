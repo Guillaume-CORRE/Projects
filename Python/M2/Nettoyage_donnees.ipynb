{
 "cells": [
  {
   "cell_type": "code",
   "execution_count": 1,
   "id": "64009c9d-122b-48f6-a155-53f69fe27cdb",
   "metadata": {},
   "outputs": [],
   "source": [
    "from serde import deserialize, serialize\n",
    "import re\n",
    "from serde.json import from_json, to_json\n",
    "from dataclasses import dataclass\n",
    "import json\n",
    "import pandas as pd\n",
    "import numpy as np"
   ]
  },
  {
   "cell_type": "code",
   "execution_count": 2,
   "id": "db014232-2510-4ca5-85ab-7d1ac19f5df9",
   "metadata": {},
   "outputs": [],
   "source": [
    "@serialize\n",
    "@deserialize\n",
    "@dataclass\n",
    "class Annonce:\n",
    "    Prix : str\n",
    "    Processeur : str\n",
    "    RAM : int\n",
    "    Résolution : str\n",
    "    Poids : float\n",
    "    Autonomie: str\n",
    "    Stockage : int\n",
    "    Systeme_exploitation : str\n",
    "    Marque : str\n",
    "    Taille : str\n",
    "    Coeur : int\n",
    "    USB : str\n",
    "    HDMI : str\n",
    "    Note : str"
   ]
  },
  {
   "cell_type": "markdown",
   "id": "b7a404cb-581d-4819-af5e-4fae50524e7c",
   "metadata": {},
   "source": [
    "# CDiscount"
   ]
  },
  {
   "cell_type": "code",
   "execution_count": 3,
   "id": "8e86e5ed-a643-4dbc-9f56-ca9ac3bf0f31",
   "metadata": {},
   "outputs": [],
   "source": [
    "def donnees_cdiscount()->pd.DataFrame:\n",
    "    \"\"\" Fonction permettant de creer un premier dataframe pour CDiscount en important le json et \n",
    "        en appliquant des premières modifications de base\n",
    "    \"\"\"\n",
    "    \n",
    "    with open('data.json', 'rb') as fp:\n",
    "        data = json.load(fp)\n",
    "    \n",
    "    df=pd.read_json(\"data.json\")\n",
    "    df[\"Processeur\"] = df[\"Processeur\"] + \"\" + df[\"CPU\"]\n",
    "    df[\"Interfaces\"] = df[\"Interfaces\"] + \"\" + df[\"Caméra\"] + df[\"Lecteur de carte mémoire\"]\n",
    "    \n",
    "    df.drop([\"Indice de réparabilité\", \"Grand écran\",\n",
    "             \"Son\", \"Lecteur de carte mémoire\", \"Caméra\",\n",
    "             \"Capacité\", \"CPU\"], axis=1, inplace=True)\n",
    "\n",
    "    df.rename(columns={\"Durée de fonctionnement\" : \"Autonomie\",\n",
    "                       \"Stockage principal\" : \"Stockage\",\n",
    "                       \"Système d'exploitation\" : \"Systeme_exploitation\",\n",
    "                       \"Taille écran\" : \"Taille\",\n",
    "                       \"Nombre de coeurs\" : \"Coeurs\"}, inplace= True)\n",
    "    \n",
    "    df = df.assign(b_USB = \"test\")\n",
    "    df = df.assign(b_HDMI = \"test\")\n",
    "    df = df.assign(Resolution = \"test\")\n",
    "    \n",
    "    return(df)"
   ]
  },
  {
   "cell_type": "code",
   "execution_count": 4,
   "id": "ca5b05b7-5047-4c67-bd68-75538ce8c67c",
   "metadata": {},
   "outputs": [],
   "source": [
    "df = donnees_cdiscount()"
   ]
  },
  {
   "cell_type": "markdown",
   "id": "da504b46-86b8-49dd-801f-d04ec9432285",
   "metadata": {},
   "source": [
    "# Amazon"
   ]
  },
  {
   "cell_type": "code",
   "execution_count": 5,
   "id": "80e332dd-d85b-4fc2-9fdf-659dbcb060d5",
   "metadata": {},
   "outputs": [],
   "source": [
    "def amazon_prix_modif(df:pd.DataFrame)->pd.DataFrame:\n",
    "    \"\"\" Nettoyage de la colonne prix Amazon pour s'adapter au data CDiscount\n",
    "    \"\"\"\n",
    "    df_amazon.Prix = df_amazon.Prix.str.replace(\"€\", \"\")\n",
    "    df_amazon.Prix = df_amazon.Prix.str.replace(\" \", \"\")\n",
    "    df_amazon.Prix = df_amazon.Prix.str.replace(\",\", \".\", regex=True)\n",
    "    df_amazon.Prix = df_amazon.Prix.str.replace(\"\\u202f\", \"\")"
   ]
  },
  {
   "cell_type": "code",
   "execution_count": 6,
   "id": "d2a6e548-e762-4597-ad89-84e37164c4e7",
   "metadata": {},
   "outputs": [],
   "source": [
    "def donnees_amazon()->pd.DataFrame:\n",
    "    \"\"\" Fonction permettant de creer un premier dataframe pour Amazon en important le json et \n",
    "        en appliquant des premières modifications de base\n",
    "    \"\"\"\n",
    "    with open('data_amazon.json', 'rb') as fp:\n",
    "        data_amazon = json.load(fp)\n",
    "    \n",
    "    df_amazon=pd.read_json(\"data_amazon.json\") \n",
    "    \n",
    "    df_amazon.rename(columns={\"Type de processeur\" : \"Processeur\",\n",
    "                          \"Taille de la mémoire vive\" : \"RAM\",\n",
    "                          \"Résolution de l'écran\" : \"Résolution\",\n",
    "                          \"Taille du disque dur\" : \"Stockage\",\n",
    "                          \"Durée de vie moyenne (en heures)\": \"Autonomie\",\n",
    "                          \"Poids du produit\" : \"Poids\", \"Nombre de ports USB\" : \"b_USB\",\n",
    "                          \"Taille de l'écran\": \"Taille\", \"Logiciels inclus\" : \"Logiciels\",\n",
    "                          \"Système d'exploitation\" : \"Systeme_exploitation\",\n",
    "                         \"Nombre de coeurs\" : \"Coeurs\", \"Nombre de ports HDMI\" : \"b_HDMI\",\n",
    "                         \"Marque du processeur\" : \"CPU_name\"}, inplace = True)\n",
    "    \n",
    "    df_amazon[\"Interfaces\"] = df_amazon[\"Logiciels\"] + df_amazon[\"Type de connecteur\"] + df_amazon[\"Interface du matériel informatique\"]\n",
    "    df_amazon[\"Processeur\"] = df_amazon[\"Processeur\"] + df_amazon[\"CPU_name\"] \n",
    "    \n",
    "    df_amazon.drop([\"CPU_name\",\n",
    "                \"GPU\", \"séries\", \"Interface du matériel informatique\",\n",
    "                \"couleur\", \"Nom de modèle\", \"Entrée de l'interface humaine\",\n",
    "               \"Fabricant de CPU\", \"Logiciels\", \"Type de connecteur\"], axis=1, inplace=True)\n",
    "    \n",
    "    return(df_amazon)"
   ]
  },
  {
   "cell_type": "code",
   "execution_count": 7,
   "id": "d4efc067-7698-416d-b12f-036d564ff8e0",
   "metadata": {},
   "outputs": [],
   "source": [
    "df_amazon = donnees_amazon()"
   ]
  },
  {
   "cell_type": "markdown",
   "id": "e79887aa-8807-4eb1-9adb-3f245492174b",
   "metadata": {},
   "source": [
    "## Prix_amazon"
   ]
  },
  {
   "cell_type": "code",
   "execution_count": 8,
   "id": "778f55a6-81b1-4f0c-9664-85d181a5b731",
   "metadata": {},
   "outputs": [],
   "source": [
    "def amazon_prix_modif(df:pd.DataFrame)->pd.DataFrame:\n",
    "    \"\"\" Nettoyage de la colonne prix Amazon pour s'adapter au data CDiscount\n",
    "    \"\"\"\n",
    "    df_amazon.Prix = df_amazon.Prix.str.replace(\"€\", \"\")\n",
    "    df_amazon.Prix = df_amazon.Prix.str.replace(\" \", \"\")\n",
    "    df_amazon.Prix = df_amazon.Prix.str.replace(\",\", \".\", regex=True)\n",
    "    df_amazon.Prix = df_amazon.Prix.str.replace(\"\\u202f\", \"\")"
   ]
  },
  {
   "cell_type": "code",
   "execution_count": 9,
   "id": "caa2abf7-39eb-4987-bb06-82f074f934e2",
   "metadata": {},
   "outputs": [],
   "source": [
    "amazon_prix_modif(df_amazon)"
   ]
  },
  {
   "cell_type": "markdown",
   "id": "5a87d1b7-8927-4bc4-8f7c-b9c01f8089ff",
   "metadata": {},
   "source": [
    "# DATABASE"
   ]
  },
  {
   "cell_type": "code",
   "execution_count": 10,
   "id": "5a0536e2-47a6-4217-a373-d237b66e4c7a",
   "metadata": {},
   "outputs": [],
   "source": [
    "def regroupement_donnees(df_1: pd.DataFrame, df_2: pd.DataFrame)->pd.DataFrame:\n",
    "    \"\"\" Regroupement des deux dataframes\n",
    "    \"\"\"\n",
    "    data = pd.concat([df, df_amazon])\n",
    "    data = data.reset_index()\n",
    "    return data"
   ]
  },
  {
   "cell_type": "code",
   "execution_count": 11,
   "id": "1b80dfed-3841-468a-9a98-2fbae66f52e3",
   "metadata": {},
   "outputs": [],
   "source": [
    "data = regroupement_donnees(df, df_amazon)"
   ]
  },
  {
   "cell_type": "markdown",
   "id": "bcb25859-ec88-4a66-9343-3af236f3172c",
   "metadata": {},
   "source": [
    "### Note"
   ]
  },
  {
   "cell_type": "code",
   "execution_count": 12,
   "id": "512e2f8d-0b48-47dc-b80b-50df32d2e2b9",
   "metadata": {},
   "outputs": [],
   "source": [
    "def nettoyage_note(df:pd.DataFrame)->pd.DataFrame:\n",
    "    \"\"\" Nettoyage de la colonne \"Note\"\n",
    "    \"\"\"\n",
    "    data.Note.str.lower()\n",
    "    data.Note= data.Note.str.replace(\" \", \"\", regex=True)\n",
    "    data.Note= data.Note.str.replace(\",\", \".\", regex=True)\n",
    "    data.Note= data.Note.str.replace(\"sur5\\xa0étoiles\", \"\", regex=True)\n",
    "    return(data)"
   ]
  },
  {
   "cell_type": "markdown",
   "id": "bee8ba26-bffe-4c07-8b83-bedc4acdc40a",
   "metadata": {},
   "source": [
    "###  RAM"
   ]
  },
  {
   "cell_type": "code",
   "execution_count": 13,
   "id": "4e388424-cd34-4d58-8fcf-fde337a80ff2",
   "metadata": {},
   "outputs": [],
   "source": [
    "def nettoyage_RAM(df:pd.DataFrame)->pd.DataFrame:\n",
    "    \"\"\" Nettoyage de la colonne \"RAM\"\n",
    "    \"\"\"\n",
    "    data.RAM = data.RAM.str.replace(\" \", \"\")\n",
    "    \n",
    "    liste_RAM = [\"512\", \"256\", \"128\", \"64\", \"16\"]\n",
    "    for element in liste_RAM:\n",
    "        data.loc[data.RAM.str.contains(element) == True,\"RAM\"]= f\",{element},Go\"\n",
    "    \n",
    "    liste_RAM_2 = [\"8Go|8GB|^8$\", \"6Go|6GB\", \"4Go|4GB|4MB|^4$\", \"2Go|2GB\"]\n",
    "    i = 8\n",
    "    for element_ram in liste_RAM_2:\n",
    "        motif = re.compile(element_ram)\n",
    "        data.RAM.str.contains(motif)\n",
    "        data.loc[data.RAM.str.contains(motif) == True,\"RAM\"]= f\"{i}Go\"\n",
    "        i = i-2\n",
    "    \n",
    "    indexNames = data[data['RAM'] == \"(lamémoirefournieestsoudée)\"].index\n",
    "    data.drop(indexNames , inplace=True)\n",
    "    data.RAM = data.RAM.str.replace(\",\",\"\")\n",
    "    \n",
    "    data.RAM = data.RAM.str.replace(\"Go\", \"\")\n",
    "    \n",
    "    return(data)"
   ]
  },
  {
   "cell_type": "markdown",
   "id": "5280c85d-0095-4743-9b9b-de2dc43715fc",
   "metadata": {},
   "source": [
    "### Résolution"
   ]
  },
  {
   "cell_type": "code",
   "execution_count": 14,
   "id": "6402fb04-c3f6-495b-8333-57e4e8795391",
   "metadata": {},
   "outputs": [],
   "source": [
    "def nettoyage_resolution(df:pd.DataFrame)->pd.DataFrame:\n",
    "    \"\"\" Nettoyage de la colonne \"Résolution\"\n",
    "    \"\"\"\n",
    "    data.Résolution = data.Résolution + data[\"Resolution\"]\n",
    "    data.Résolution = data.Résolution.str.replace(\" \", \"\")\n",
    "    \n",
    "    data.Résolution = data.Résolution.str.replace(\".*1366.768.*\", \"1366x768\", regex=True)\n",
    "    data.Résolution = data.Résolution.str.replace(\".*2280.1920*\", \"2280x1920\", regex=True)\n",
    "    data.Résolution = data.Résolution.str.replace(\".*1920.1080.*\", \"1920x1080\", regex=True)\n",
    "    data.Résolution = data.Résolution.str.replace(\".*1600.900.*\", \"1600x900\", regex=True)\n",
    "    data.Résolution = data.Résolution.str.replace(\".*1440.900.*\", \"1440x900\", regex=True)\n",
    "    data.Résolution = data.Résolution.str.replace(\".*2560.1600.*\", \"2560x1600\", regex=True)\n",
    "    data.Résolution = data.Résolution.str.replace(\".*2256.1504.*\", \"2256x1504\", regex=True)\n",
    "    data.Résolution = data.Résolution.str.replace(\".*3072.1920.*\", \"3072x1920\", regex=True)\n",
    "    data.Résolution = data.Résolution.str.replace(\".*3000.2000.*\", \"3000x2000\", regex=True)\n",
    "    data.Résolution = data.Résolution.str.replace(\".*1536.1024.*\", \"1536x1024\", regex=True)\n",
    "    data.Résolution = data.Résolution.str.replace(\".*1200.1920.*\", \"1200x1920\", regex=True)\n",
    "    data.Résolution = data.Résolution.str.replace(\".*2280x1920.*\", \"2280x1920\", regex=True)\n",
    "    data.Résolution = data.Résolution.str.replace(\".*1280.800.*\", \"1280x800\", regex=True)\n",
    "    data.Résolution = data.Résolution.str.replace(\".*1024.600.*\", \"1024x600\", regex=True)\n",
    "    data.Résolution = data.Résolution.str.replace(\".*3840.2160.*\", \"3840x2160\", regex=True)\n",
    "    data.Résolution = data.Résolution.str.replace(\".*2560.1440.*\", \"2560x1440\", regex=True)\n",
    "    data.Résolution = data.Résolution.str.replace(\".*2160.1440.*\", \"2160x1440\", regex=True)\n",
    "    data.Résolution = data.Résolution.str.replace(\".*2880.1800.*\", \"2880x1800\", regex=True)\n",
    "    data.Résolution = data.Résolution.str.replace(\".*1280.1040.*\", \"1280x1040\", regex=True)\n",
    "    data.Résolution = data.Résolution.str.replace(\".*3840.2400.*\", \"3840x2400\", regex=True)\n",
    "    data.Résolution = data.Résolution.str.replace(\".*2048.1536.*\", \"2048.1536\", regex=True)\n",
    "    data.Résolution = data.Résolution.str.replace(\".*1920.1200.*\", \"1920x1200\", regex=True)\n",
    "    data.Résolution = data.Résolution.str.replace(\"None2736x1824\", \"2736x1824\", regex=True)\n",
    "    data.Résolution = data.Résolution.str.replace(\".*1920.1280.*\", \"1920x1280\", regex=True)\n",
    "    data.Résolution = data.Résolution.str.replace(\".*2496.1664.*\", \"2496x1664\", regex=True)\n",
    "    data.Résolution = data.Résolution.str.replace(\".*720p*\", \"1366x768\", regex=True)\n",
    "    data.Résolution = data.Résolution.str.replace(\".*1080p.*\", \"1920x1080\", regex=True)\n",
    "    data.Résolution = data.Résolution.str.replace(\".*WQHD.*\", \"2560x1440\", regex=True)\n",
    "    data.Résolution = data.Résolution.str.replace(\"1366x768HDReadyLinesPerInch\", \"1368x768\", regex=True)\n",
    "    data.Résolution = data.Résolution.str.replace(\"None4KUltraHDPixels\", \"3840x2160\", regex=True)\n",
    "    \n",
    "    data.Résolution = data.Résolution.str.replace(\".*None.*\", \"None\", regex=True)\n",
    "    \n",
    "    indexNames = data[data['Résolution'] == \"4200dpitest\"].index\n",
    "    data.drop(indexNames , inplace=True)\n",
    "    indexNames = data[data['Résolution'] == \"2,5Ktest\"].index\n",
    "    data.drop(indexNames , inplace=True)\n",
    "    data.drop([\"Resolution\"], axis=1, inplace=True)\n",
    "    \n",
    "    return(data)"
   ]
  },
  {
   "cell_type": "markdown",
   "id": "4ff7e873-4b73-4a6d-b13f-229fd156de57",
   "metadata": {},
   "source": [
    "### Poids"
   ]
  },
  {
   "cell_type": "code",
   "execution_count": 15,
   "id": "a438130a-23c9-48e1-8646-f6f477e3729e",
   "metadata": {},
   "outputs": [],
   "source": [
    "def nettoyage_poids(df:pd.DataFrame)->pd.DataFrame:\n",
    "    \"\"\" Nettoyage de la colonne \"Poids\"\n",
    "    \"\"\"\n",
    "    data.Poids = data.Poids.str.replace(\"Kilogrammes\", \"\")\n",
    "    data.Poids = data.Poids.str.replace(\"KG\", \"\")\n",
    "    data.Poids = data.Poids.str.replace(\"Kg\", \"\")\n",
    "    data.Poids = data.Poids.str.replace(\"kg\", \"\")\n",
    "    data.Poids = data.Poids.str.replace(\"Grammes\", \"g\")\n",
    "    data.Poids = data.Poids.str.replace(\".*1500g\", \"1.500\", regex=True)\n",
    "    data.Poids = data.Poids.str.replace(\"0\\.01 \", \"1.000\", regex=True)\n",
    "    data.Poids = data.Poids.str.replace(\"0\\.02 \", \"1.200\", regex=True)\n",
    "    data.Poids = data.Poids.str.replace(\"g\", \"\")\n",
    "    data.Poids = data.Poids.str.replace(\" \", \"\")\n",
    "    data.Poids = data.Poids.str.replace(\",\", \".\")\n",
    "    \n",
    "    motif = re.compile(\"Livres\")\n",
    "    data.loc[data.Poids.str.contains(motif) == True,\"Poids\"]= \"1.400\"\n",
    "\n",
    "    indexNames = data[data['Poids'] == \"302.2*217*16mm\"].index\n",
    "    data.drop(indexNames , inplace=True)\n",
    "    indexNames = data[data['Poids'] == \"en0\"].index\n",
    "    data.drop(indexNames , inplace=True)\n",
    "    \n",
    "    return data"
   ]
  },
  {
   "cell_type": "markdown",
   "id": "a0cf5aef-4ae5-469e-a453-6f18b508c607",
   "metadata": {},
   "source": [
    "### Poids en kg"
   ]
  },
  {
   "cell_type": "code",
   "execution_count": 16,
   "id": "6bd3ad08-7e45-49e1-beb2-1fa80f9b9df8",
   "metadata": {},
   "outputs": [],
   "source": [
    "def poids_echelle(df:pd.DataFrame)->pd.DataFrame:\n",
    "    \"\"\" Mise à l'échelle pour que toutes les données soient en kg\n",
    "    \"\"\"\n",
    "    \n",
    "    data.Poids = data.Poids.str.replace(\"990\", \"0.990\")\n",
    "    data.Poids = data.Poids.str.replace(\"999\", \"0.999\")\n",
    "    data.Poids = data.Poids.str.replace(\"980?\", \"0.980\", regex=True)\n",
    "    data.Poids = data.Poids.str.replace(\"553\", \"0.553\")\n",
    "    data.Poids = data.Poids.str.replace(\"544\", \"0.544\")\n",
    "    data.Poids = data.Poids.str.replace(\"989.*\", \"0.989\", regex=True)\n",
    "    data.Poids = data.Poids.str.replace(\"870\", \"0.870\")\n",
    "    data.Poids = data.Poids.str.replace(\"906\", \"0.906\")\n",
    "    data.Poids = data.Poids.str.replace(\"2410\", \"2.410\")\n",
    "    data.Poids = data.Poids.str.replace(\"1750\", \"1.750\")\n",
    "    data.Poids = data.Poids.str.replace(\"1500\", \"1.5\")\n",
    "    data.Poids = data.Poids.str.replace(\"1740\", \"1.740\")\n",
    "    data.Poids = data.Poids.str.replace(\"1300\", \"1.300\")\n",
    "    data.Poids = data.Poids.str.replace(\"1400\", \"1.400\")\n",
    "    data.Poids = data.Poids.str.replace(\"1420\", \"1.420\")\n",
    "    data.Poids = data.Poids.str.replace(\"1920\", \"1.920\")\n",
    "    data.Poids = data.Poids.str.replace(\"2600\", \"2.600\")\n",
    "    data.Poids = data.Poids.str.replace(\"3500\", \"3.500\")\n",
    "    data.Poids = data.Poids.str.replace(\"1050\", \"1.050\")\n",
    "    data.Poids = data.Poids.str.replace(\"1850\", \"1.850\")\n",
    "    data.Poids = data.Poids.str.replace(\"3319\", \"3.319\")\n",
    "    data.Poids = data.Poids.str.replace(\"2350\", \"2.350\")\n",
    "    data.Poids = data.Poids.str.replace(\"2460\", \"2.460\")\n",
    "    data.Poids = data.Poids.str.replace(\"2000\", \"2.0\")\n",
    "    data.Poids = data.Poids.str.replace(\"1340\", \"1.340\")\n",
    "    data.Poids = data.Poids.str.replace(\"3200\", \"3.2\")\n",
    "    data.Poids = data.Poids.str.replace(\"1980\", \"1.980\")\n",
    "    data.Poids = data.Poids.str.replace(\"1700\", \"1.7\")\n",
    "    data.Poids = data.Poids.str.replace(\"820\", \"0.820\")\n",
    "    data.Poids = data.Poids.str.replace(\"2.0.980\", \"2.980\", regex=True)\n",
    "    data.Poids = data.Poids.str.replace(\"10.980\", \"1.980\", regex=True)\n",
    "    data.Poids = data.Poids.str.replace(\"1.0.980\", \"0.980\", regex=True)\n",
    "    \n",
    "    return data"
   ]
  },
  {
   "cell_type": "markdown",
   "id": "95b565cb-0a8e-41bc-933c-7aee7651ae11",
   "metadata": {},
   "source": [
    "### Stockage"
   ]
  },
  {
   "cell_type": "code",
   "execution_count": 17,
   "id": "9724b139-f52c-4b72-a6dd-77bb2fca62ed",
   "metadata": {},
   "outputs": [],
   "source": [
    "def nettoyage_stockage(df:pd.DataFrame)->pd.DataFrame:\n",
    "    \"\"\" Nettoyage de la variable \"Stockage\"\n",
    "    \"\"\"\n",
    "    data.Stockage = data.Stockage.str.replace(\" \", \"\")\n",
    "    data.Stockage = data.Stockage.str.replace(\"1To\", \"1000Go\")\n",
    "    data.Stockage = data.Stockage.str.replace(\"2To\", \"2000Go\")\n",
    "    data.Stockage = data.Stockage.str.replace(\"1\\.024To\", \"1024Go\", regex = True)\n",
    "    \n",
    "    liste_stockage = [\"2000\", \"1024\", \"1000\", \"756\", \"512\", \"500\", \"480\", \"256\", \"250\", \"128\", \"64\", \"16\"]\n",
    "    for element in liste_stockage:\n",
    "        data.loc[data.Stockage.str.contains(element) == True, \"Stockage\"]= f\"{element}Go\"\n",
    "    \n",
    "    motif = re.compile(\"^320$\")\n",
    "    data.loc[data.Stockage.str.contains(motif) == True, \"Stockage\"]= f\",320,Go\"\n",
    "    motif = re.compile(\"^32G.*\")\n",
    "    data.loc[data.Stockage.str.contains(motif) == True,\"Stockage\"]= f\"32Go\"\n",
    "    data.Stockage = data.Stockage.str.replace(\"Go\", \"\")\n",
    "    data.Stockage = data.Stockage.str.replace(\"SSD\", \"32\")\n",
    "    \n",
    "    return data"
   ]
  },
  {
   "cell_type": "markdown",
   "id": "7bbc51ed-5d84-4a50-83b3-c2a8315a5591",
   "metadata": {},
   "source": [
    "### Autonomie"
   ]
  },
  {
   "cell_type": "code",
   "execution_count": 18,
   "id": "50de4337-a847-45ac-8c79-a61a43498736",
   "metadata": {},
   "outputs": [],
   "source": [
    "def nettoyage_autonomie(df:pd.DataFrame)->pd.DataFrame:\n",
    "    \"\"\" Nettoyage de la variable \"Autonomie\"\n",
    "    \"\"\"\n",
    "    liste_autonomie = [\"Jusqu'à\", \"heures\", \"ans\", \"[(]\", \"[)]\", \"heures\" ]\n",
    "    for element in liste_autonomie:\n",
    "        data.Autonomie = data.Autonomie.str.replace(element, \"\", regex=True)\n",
    "    return(data)"
   ]
  },
  {
   "cell_type": "markdown",
   "id": "d5908215-ca4b-44dc-a23e-7389fda3034b",
   "metadata": {},
   "source": [
    "### Système exploitation"
   ]
  },
  {
   "cell_type": "code",
   "execution_count": 19,
   "id": "e20ea03d-f1fb-464b-9476-852c62ae0b27",
   "metadata": {},
   "outputs": [],
   "source": [
    "def nettoyage_systeme(df:pd.DataFrame)->pd.DataFrame:\n",
    "    \"\"\" Nettoyage de la variable \"Systeme_exploitation\"\n",
    "    \"\"\"\n",
    "    data.loc[data.Systeme_exploitation.str.contains(\"Chrome\") == True, \"Systeme_exploitation\"]= f\"ChromeOS\"\n",
    "    data.loc[data.Systeme_exploitation.str.contains(\"Mac\") == True, \"Systeme_exploitation\"]= f\"MacOS\"\n",
    "    data.loc[data.Systeme_exploitation.str.contains(\"mac\") == True, \"Systeme_exploitation\"]= f\"MacOS\"\n",
    "    data.loc[data.Systeme_exploitation.str.contains(\"7\") == True, \"Systeme_exploitation\"]= f\"Windows 7 Pro\"\n",
    "    data.loc[data.Systeme_exploitation.str.contains(\"DOS\") == True, \"Systeme_exploitation\"]= f\"DOS\"\n",
    "    \n",
    "    data.Systeme_exploitation = data.Systeme_exploitation.str.replace(\"français\", \"\")\n",
    "    data.Systeme_exploitation = data.Systeme_exploitation.str.replace(\"Enterprise\", \"Pro\")\n",
    "    \n",
    "    motif = re.compile(\"10 Home|10 home|10 H|10H\")\n",
    "    data.loc[ data.Systeme_exploitation.str.contains(motif) == True,\"Systeme_exploitation\"]= f\"Windows 10 Home\"\n",
    "\n",
    "    motif = re.compile(\"10s|10 S|S mode\")\n",
    "    data.loc[ data.Systeme_exploitation.str.contains(motif) == True,\"Systeme_exploitation\"]= f\"Windows 10s\"\n",
    "\n",
    "    motif = re.compile(\"11 Home\")\n",
    "    data.loc[ data.Systeme_exploitation.str.contains(motif) == True,\"Systeme_exploitation\"]= f\"Windows 11 Home\"\n",
    "\n",
    "    motif = re.compile(\"10 Pro| 10 pro|IoT\")\n",
    "    data.loc[ data.Systeme_exploitation.str.contains(motif) == True,\"Systeme_exploitation\"]= f\"Windows 11 Pro\"\n",
    "\n",
    "    motif = re.compile(\"11 Pro\")\n",
    "    data.loc[ data.Systeme_exploitation.str.contains(motif) == True,\"Systeme_exploitation\"]= f\"Windows 11 Pro\"\n",
    "\n",
    "    motif = re.compile(\"Familiale|Famille|10 F|10F\")\n",
    "    data.loc[ data.Systeme_exploitation.str.contains(motif) == True,\"Systeme_exploitation\"]= f\"Windows 10 Famille\"\n",
    "\n",
    "    motif = re.compile(\"El Capitan\")\n",
    "    data.loc[ data.Systeme_exploitation.str.contains(motif) == True,\"Systeme_exploitation\"]= f\"MacOS\"\n",
    "\n",
    "    motif = re.compile(\"Aucun système d'exploitation fourni|Sans OS|SANS OS\")\n",
    "    data.loc[ data.Systeme_exploitation.str.contains(motif) == True,\"Systeme_exploitation\"]= f\"Aucun\"\n",
    "\n",
    "    motif = re.compile(\"Android\")\n",
    "    data.loc[ data.Systeme_exploitation.str.contains(motif) == True,\"Systeme_exploitation\"]= f\"Android\"\n",
    "\n",
    "    motif = re.compile(\"None|Win10|Ordissimo|Logiciels\")\n",
    "    data.loc[ data.Systeme_exploitation.str.contains(motif) == True,\"Systeme_exploitation\"]= f\"Windows 10 Home\"\n",
    "    \n",
    "    motif = re.compile(\"^Windows 10$|^Windows$\")\n",
    "    data.loc[ data.Systeme_exploitation.str.contains(motif) == True,\"Systeme_exploitation\"]= f\"Windows 10 Home\"\n",
    "\n",
    "    motif = re.compile(\"^Windows 11$\")\n",
    "    data.loc[ data.Systeme_exploitation.str.contains(motif) == True,\"Systeme_exploitation\"]= f\"Windows 11 Home\"\n",
    "    \n",
    "    motif = re.compile(\"11\")\n",
    "    data.loc[ data.Systeme_exploitation.str.contains(motif) == True,\"Systeme_exploitation\"]= f\"Windows 11\"\n",
    "    \n",
    "    motif = re.compile(\"10\")\n",
    "    data.loc[ data.Systeme_exploitation.str.contains(motif) == True,\"Systeme_exploitation\"]= f\"Windows 10\"\n",
    "    \n",
    "    return data"
   ]
  },
  {
   "cell_type": "markdown",
   "id": "89e235bc-9f0f-4b22-8548-9aa605a4f337",
   "metadata": {},
   "source": [
    "### Marque"
   ]
  },
  {
   "cell_type": "code",
   "execution_count": 20,
   "id": "281ce5d5-c104-41ae-9d37-5b9e43e4284a",
   "metadata": {},
   "outputs": [],
   "source": [
    "def nettoyage_marque(df:pd.DataFrame)->pd.DataFrame:\n",
    "    \"\"\" Nettoyage de la variable \"Marque\", si la marque est présente moins de 10 fois,\n",
    "        on la classe comme \"AUTRES\".\n",
    "    \"\"\"\n",
    "    data.Marque = data.Marque.str.upper()\n",
    "    \n",
    "    liste_marque = [\"NONE|N.A|AUCUNE\", \"APPLE\", \"ASUS|ASUSTEK\", \"SAMSUNG\", \"LG\", \"MICROSOFT\", \"LENOVO\"]\n",
    "    liste_marque_2 = [\"None\", \"APPLE\", \"ASUS\", \"SAMSUNG\", \"LG\", \"MICROSOFT\", \"LENOVO\"]\n",
    "    i = 0\n",
    "    for element in liste_marque:\n",
    "        element_2 = liste_marque_2[i]\n",
    "        motif = re.compile(element)\n",
    "        data.loc[data.Marque.str.contains(motif) == True,\"Marque\"]= f\"{element_2}\"\n",
    "        i = i+1\n",
    "    \n",
    "    indexNames = data[data['Marque'] == \"DU PROCESSEUR\\u200eINTEL\"].index\n",
    "    data.drop(indexNames , inplace=True)\n",
    "    indexNames = data[data['Marque'] == \"None\"].index\n",
    "    data.drop(indexNames , inplace=True)\n",
    "    \n",
    "    marque_low = data.Marque.value_counts().loc[lambda x : x<10]\n",
    "    marque_low = marque_low.index.tolist()\n",
    "    \n",
    "    for element in marque_low :\n",
    "        data.loc[data.Marque == element,'Marque'] = \"AUTRES\"\n",
    "        \n",
    "    return data"
   ]
  },
  {
   "cell_type": "markdown",
   "id": "937a8b71-cb14-4ab0-ae8c-79d07d27ec48",
   "metadata": {},
   "source": [
    "### Taille écran"
   ]
  },
  {
   "cell_type": "code",
   "execution_count": 21,
   "id": "b298ce77-acad-4aca-b607-1a5f86f8a057",
   "metadata": {},
   "outputs": [],
   "source": [
    "def nettoyage_taille(df:pd.DataFrame)->pd.DataFrame:\n",
    "    \"\"\" Nettoyage de la variable \"Taille écran\"\n",
    "    \"\"\"\n",
    "    liste_taille = [\"\\\".*\", \"Pouces\", \"inch\", \"pouces\", \"Centimètres\", \"Décimètres\",\n",
    "                    \"Centièmes.*\", \"Pieds\", \"avec.*\", \" \"]\n",
    "    \n",
    "    for element in liste_taille:\n",
    "        data.Taille = data.Taille.str.replace(element, \"\", regex=True)\n",
    "        \n",
    "    data.Taille = data.Taille.str.replace(\",\", \".\", regex=True)\n",
    "    \n",
    "    indexNames = data[data['Taille'] == \"1xSATA/NVMe\"].index\n",
    "    data.drop(indexNames , inplace=True)\n",
    "    \n",
    "    return data"
   ]
  },
  {
   "cell_type": "markdown",
   "id": "2e6bb51f-eb2f-46a5-9c2d-abb3d3029e51",
   "metadata": {},
   "source": [
    "### Processeur/CPU"
   ]
  },
  {
   "cell_type": "code",
   "execution_count": 22,
   "id": "d1959154-93b7-4142-9116-9a96fd88c2df",
   "metadata": {},
   "outputs": [],
   "source": [
    "def nettoyage_processeur(df:pd.DataFrame)->pd.DataFrame:\n",
    "    \"\"\" Nettoyage de la variable Processeur\n",
    "    \"\"\"\n",
    "    data.Processeur = data.Processeur.str.replace(\" \", \"\")\n",
    "    \n",
    "    liste_intel = [\"i3\", \"i5\", \"i7\", \"i9\", \"Gemini\"]\n",
    "    for element in liste_intel:\n",
    "        motif = re.compile(element)\n",
    "        data.loc[data.Processeur.str.contains(motif) == True,\"Processeur\"]= f\"Intel Core {element}\"\n",
    "    \n",
    "    liste_AMD = [\"A4\", \"A9\", \"A12\"]\n",
    "    for element in liste_AMD:\n",
    "        motif = re.compile(element)\n",
    "        data.loc[data.Processeur.str.contains(motif) == True,\"Processeur\"]= f\"AMD {element}\"\n",
    "        \n",
    "    motif = re.compile(\"Atom\")\n",
    "    data.loc[data.Processeur.str.contains(motif) == True,\"Processeur\"]= f\"Intel Atom\"\n",
    "\n",
    "    motif = re.compile(\"Celeron|NoneIntel\")\n",
    "    data.loc[data.Processeur.str.contains(motif) == True,\"Processeur\"]= f\"Intel Celeron\"\n",
    "\n",
    "    motif = re.compile(\"Pentium\")\n",
    "    data.loc[data.Processeur.str.contains(motif) == True,\"Processeur\"]= f\"Intel Pentium\"\n",
    "\n",
    "    motif = re.compile(\"Ryzen|RSeries|NoneAMD\")\n",
    "    data.loc[data.Processeur.str.contains(motif) == True,\"Processeur\"]= f\"AMD Ryzen\"\n",
    "\n",
    "    motif = re.compile(\"Athlon\")\n",
    "    data.loc[data.Processeur.str.contains(motif) == True,\"Processeur\"]= f\"AMD Athlon\"\n",
    "\n",
    "    motif = re.compile(\"Radeon\")\n",
    "    data.loc[data.Processeur.str.contains(motif) == True,\"Processeur\"]= f\"AMD Radeon\"\n",
    "\n",
    "    motif = re.compile(\"Xeon|E-Series\")\n",
    "    data.loc[data.Processeur.str.contains(motif) == True,\"Processeur\"]= f\"Intel Xeon\"\n",
    "\n",
    "    motif = re.compile(\"N[0-9]{3}\")\n",
    "    data.loc[data.Processeur.str.contains(motif) == True,\"Processeur\"]= f\"Intel Celeron\"\n",
    "\n",
    "    motif = re.compile(\"Cortex\")\n",
    "    data.loc[data.Processeur.str.contains(motif) == True,\"Processeur\"]= f\"Cortex A8\"\n",
    "\n",
    "    motif = re.compile(\"MediaTek|NoneMediaTek|NoneMediatek\")\n",
    "    data.loc[data.Processeur.str.contains(motif) == True,\"Processeur\"]= f\"MediaTek\"\n",
    "\n",
    "    motif = re.compile(\"Snapdragon\")\n",
    "    data.loc[data.Processeur.str.contains(motif) == True,\"Processeur\"]= f\"Snapdragon\"\n",
    "\n",
    "    motif = re.compile(\"3000\")\n",
    "    data.loc[data.Processeur.str.contains(motif) == True,\"Processeur\"]= f\"AMD 3000\"\n",
    "\n",
    "    motif = re.compile(\"M1\")\n",
    "    data.loc[data.Processeur.str.contains(motif) == True,\"Processeur\"]= f\"Apple M1\"\n",
    "\n",
    "    motif = re.compile(\"I5|IntelUHDGraphics|IntelIrisXeGraphics\")\n",
    "    data.loc[data.Processeur.str.contains(motif) == True,\"Processeur\"]= f\"Intel Core i5\"\n",
    "\n",
    "    motif = re.compile(\"5Y10Processor\")\n",
    "    data.loc[data.Processeur.str.contains(motif) == True,\"Processeur\"]= f\"Intel Core i5\"\n",
    "\n",
    "    motif = re.compile(\"I3|2Duo|m3|IntelHDGraphics\")\n",
    "    data.loc[data.Processeur.str.contains(motif) == True,\"Processeur\"]= f\"Intel Core i3\"\n",
    "\n",
    "    motif = re.compile(\"NoneNone|nan\")\n",
    "    data.loc[data.Processeur.str.contains(motif) == True,\"Processeur\"]= f\"None\"\n",
    "    \n",
    "    #data.Processeur = data.Processeur.str.replace(\" \", \"\")\n",
    "    \n",
    "    return data"
   ]
  },
  {
   "cell_type": "markdown",
   "id": "240c1766-fe22-4b42-83e3-b91fa5b45536",
   "metadata": {},
   "source": [
    "### Nombre de coeurs"
   ]
  },
  {
   "cell_type": "code",
   "execution_count": 23,
   "id": "114e3322-570c-4090-8b43-adbfafb80084",
   "metadata": {},
   "outputs": [],
   "source": [
    "def nettoyage_coeurs(df:pd.DataFrame)->pd.DataFrame:\n",
    "    \"\"\" Nettoyage de la variable \"Nombre de coeurs\"\n",
    "    \"\"\"\n",
    "    \n",
    "    liste_coeurs = [\"2|Double\", \"4|Quad|Quadri|None|5\", \"6\", \"8\", \"10\"]\n",
    "    i = 2\n",
    "    for element in liste_coeurs:\n",
    "        motif = re.compile(element)\n",
    "        data.loc[data.Coeurs.str.contains(motif) == True,\"Coeurs\"]= f\"{i}\"\n",
    "        i = i + 2\n",
    "    \n",
    "    return data"
   ]
  },
  {
   "cell_type": "markdown",
   "id": "9429a72a-8531-421b-bd21-898a53ce49f8",
   "metadata": {},
   "source": [
    "### Interfaces"
   ]
  },
  {
   "cell_type": "code",
   "execution_count": 24,
   "id": "b3ee4560-9bf2-4252-8c15-51e4a2ff2b1a",
   "metadata": {},
   "outputs": [],
   "source": [
    "def nettoyage_interfaces(df:pd.DataFrame)->pd.DataFrame:\n",
    "    \"\"\" Création des variables Bluetooth, USB, HDMI, sortie_audio, Caméra et Cart_sd\n",
    "        Prend True si présence de l'élement, False sinon\n",
    "    \"\"\"\n",
    "    \n",
    "    data.Interfaces = data.Interfaces + data[\"b_USB\"] + data[\"b_HDMI\"]\n",
    "    data.Interfaces = data.Interfaces.str.lower()\n",
    "\n",
    "    liste_interface = [\"bluetooth\", \"usb|\\u200e\", \"hdmi|.*1$\", \"casque|microphone\", \"camera|webcam|oui\"\n",
    "                       ,\"sd\"]\n",
    "    liste_interface_2 = [\"Bluetooth\", \"USB\", \"HDMI\", \"Sortie_audio\", \"Caméra\", \"Carte_sd\"]\n",
    "    i = 0\n",
    "    for element in liste_interface:\n",
    "        element_2 = liste_interface_2[i]\n",
    "        motif = re.compile(element)\n",
    "        data[element_2] = data.Interfaces.str.contains(motif)\n",
    "        i = i+1\n",
    "\n",
    "    data.drop([\"Interfaces\", \"b_USB\", \"b_HDMI\"], axis=1, inplace=True)\n",
    "    \n",
    "    return data"
   ]
  },
  {
   "cell_type": "markdown",
   "id": "ceef0b79-7034-483a-bf7c-09443881e1d6",
   "metadata": {},
   "source": [
    "## Dataset nettoyé"
   ]
  },
  {
   "cell_type": "code",
   "execution_count": 25,
   "id": "44bf6be0-24fd-4c69-8457-29232f895f8e",
   "metadata": {},
   "outputs": [],
   "source": [
    "def nettoyage_complet(df:pd.DataFrame)->pd.DataFrame:\n",
    "    data = df\n",
    "    \n",
    "    data = nettoyage_note(data)\n",
    "    data = nettoyage_RAM(data)\n",
    "    data = nettoyage_resolution(data)\n",
    "    data = nettoyage_poids(data)\n",
    "    data = poids_echelle(data)\n",
    "    data = nettoyage_stockage(data)\n",
    "    data = nettoyage_autonomie(data)\n",
    "    data = nettoyage_systeme(data)\n",
    "    data = nettoyage_marque(data)\n",
    "    data = nettoyage_taille(data)\n",
    "    data = nettoyage_processeur(data)\n",
    "    data = nettoyage_coeurs(data)\n",
    "    data = nettoyage_interfaces(data)\n",
    "    \n",
    "    data = data.drop_duplicates(subset=None, keep='first', inplace=False, ignore_index=False)\n",
    "    \n",
    "    return data"
   ]
  },
  {
   "cell_type": "code",
   "execution_count": 26,
   "id": "4a97e42e-fccd-4b32-a512-01a6dc83d61b",
   "metadata": {},
   "outputs": [],
   "source": [
    "data = nettoyage_complet(data)"
   ]
  },
  {
   "cell_type": "markdown",
   "id": "8d6b8e86-d191-474d-8103-53e5db6af7b3",
   "metadata": {},
   "source": [
    "## Processeur NA"
   ]
  },
  {
   "cell_type": "code",
   "execution_count": 27,
   "id": "6a2b1795-73bf-4713-9612-76697cb8c64b",
   "metadata": {},
   "outputs": [],
   "source": [
    "def na_processeur(df:pd.DataFrame)->pd.DataFrame:\n",
    "    \"\"\" On donne la valeur la plus courante aux Na en fonction de la marque, car souvent une corrélation entre\n",
    "        la marque et le processeur utilisé\n",
    "    \"\"\"\n",
    "    data = df\n",
    "    \n",
    "    data.loc[(data.Processeur == \"None\") & (data.Marque == \"APPLE\"),'Processeur']= 'Apple M1'\n",
    "    data.loc[(data.Processeur == \"None\") & (data.Marque == \"THOMSON\") , \"Processeur\"] = 'Intel Celeron'\n",
    "    data.loc[(data.Processeur == \"None\") & (data.Marque == \"SIMBANS\") ,'Processeur']= 'Intel Atom'\n",
    "    data.loc[(data.Processeur == \"None\") & (data.Marque == \"LENOVO\") , \"Processeur\"] = 'Intel Core i5'\n",
    "    \n",
    "    data = data.replace(\"None\", np.NaN)\n",
    "    #data.Processeur = data.Processeur.fillna(data.Processeur.mode()[0])\n",
    "    \n",
    "    indexNames = data[data.Processeur.isnull()].index\n",
    "    data.drop(indexNames , inplace=True)\n",
    "    \n",
    "    return data"
   ]
  },
  {
   "cell_type": "code",
   "execution_count": 28,
   "id": "f5bd84d2-3e47-419c-bf19-35cad3c3ef7e",
   "metadata": {},
   "outputs": [],
   "source": [
    "def na_remplacement(df:pd.DataFrame)->pd.DataFrame:\n",
    "    \"\"\" Remplacement des Na par la médiane lorsque l'écart max entre min et max est pas trop grand\n",
    "    \"\"\"\n",
    "    data = df\n",
    "    \n",
    "    median_RAM = data['RAM'].median()\n",
    "    data[\"RAM\"].fillna(median_RAM, inplace=True)\n",
    "\n",
    "    median_Stockage = data['Stockage'].median()\n",
    "    data[\"Stockage\"].fillna(median_Stockage, inplace=True)\n",
    "\n",
    "    median_Poids = data['Poids'].median()\n",
    "    data[\"Poids\"].fillna(median_Poids, inplace=True)\n",
    "\n",
    "    median_Taille = data['Taille'].median()\n",
    "    data[\"Taille\"].fillna(median_Taille, inplace=True)\n",
    "    \n",
    "    data = data.drop(columns={\"Autonomie\", \"Note\"})\n",
    "    \n",
    "    data.RAM = data.RAM.replace(median_RAM, f\"{median_RAM}\")\n",
    "    data.Stockage = data.Stockage.replace(median_Stockage, f\"{median_Stockage}\")\n",
    "    \n",
    "    data.RAM = data.RAM.str.replace(\".0\", \"\", regex=True)\n",
    "    data.RAM = data.RAM.astype(int)\n",
    "    motif = re.compile(\"\\.\")\n",
    "    data.loc[data.Stockage.str.contains(motif) == True,\"Stockage\"]= \"256\"\n",
    "    data.Stockage = data.Stockage.astype(int)\n",
    "    \n",
    "    return data"
   ]
  },
  {
   "cell_type": "code",
   "execution_count": 29,
   "id": "816b5faf-d8fd-411c-92c6-6833f3c961a3",
   "metadata": {},
   "outputs": [],
   "source": [
    "def na_final(df:pd.DataFrame)->pd.DataFrame:\n",
    "    \n",
    "    data = df\n",
    "    data = na_processeur(data)\n",
    "    data = na_remplacement(data)\n",
    "    \n",
    "    return data"
   ]
  },
  {
   "cell_type": "code",
   "execution_count": 30,
   "id": "ef3e011a-bc60-472f-872b-a31fa79d8f48",
   "metadata": {},
   "outputs": [],
   "source": [
    "data = na_final(data)"
   ]
  },
  {
   "cell_type": "markdown",
   "id": "8c08c629-d004-4b18-8340-b3025d914ffb",
   "metadata": {},
   "source": [
    "# Database clean"
   ]
  },
  {
   "cell_type": "code",
   "execution_count": 31,
   "id": "60ce3ed5-fca0-40a9-9339-857dc8de9647",
   "metadata": {},
   "outputs": [],
   "source": [
    "data.to_csv(\"data_nettoyee.csv\", index=False)"
   ]
  },
  {
   "cell_type": "code",
   "execution_count": 32,
   "id": "5871d149-64f5-4e75-916a-de748083fb41",
   "metadata": {},
   "outputs": [],
   "source": [
    "path = f\"C:/Users/Guillaume CORRE/Machine_learning/Projet\"\n",
    "data.to_json(path + \"\\data_nettoyee.json\")"
   ]
  },
  {
   "cell_type": "markdown",
   "id": "c2a67c53-36d5-4c1a-a408-6ae6c891747b",
   "metadata": {},
   "source": [
    "# Data prix en classe"
   ]
  },
  {
   "cell_type": "code",
   "execution_count": 33,
   "id": "8ea8c67d-848f-43d2-91e1-8328f0e3f2fd",
   "metadata": {},
   "outputs": [],
   "source": [
    "def data_categorie(df:pd.DataFrame)->pd.DataFrame:\n",
    "    \n",
    "    data.Prix = data.Prix.astype(float)\n",
    "    data.loc[data.Prix < 250, \"Prix\"] = 1.0\n",
    "    data.loc[(data.Prix >= 250) & (data.Prix < 400), \"Prix\"] = 2.0\n",
    "    data.loc[(data.Prix >= 400) & (data.Prix < 600), \"Prix\"] = 3.0\n",
    "    data.loc[(data.Prix >= 600) & (data.Prix < 800), \"Prix\"] = 4.0\n",
    "    data.loc[(data.Prix >= 800) & (data.Prix < 1150), \"Prix\"] = 5.0\n",
    "    data.loc[data.Prix >= 1150, \"Prix\"] = 6.0\n",
    "    \n",
    "    data.Prix = data.Prix.replace(1.0, \"<250\")\n",
    "    data.Prix = data.Prix.replace(2.0, \"Entre 250 et 400\")\n",
    "    data.Prix = data.Prix.replace(3.0, \"Entre 400 et 600\")\n",
    "    data.Prix = data.Prix.replace(4.0, \"Entre 600 et 800\")\n",
    "    data.Prix = data.Prix.replace(5.0, \"Entre 800 et 1150\")\n",
    "    data.Prix = data.Prix.replace(6.0, \">1150\")\n",
    "    \n",
    "    return data"
   ]
  },
  {
   "cell_type": "code",
   "execution_count": 34,
   "id": "415ffe06-a787-42a9-8c8f-bb2fa18bab20",
   "metadata": {},
   "outputs": [],
   "source": [
    "data = data_categorie(data)"
   ]
  },
  {
   "cell_type": "code",
   "execution_count": 35,
   "id": "492448c6-8fd4-4dd2-9214-e95d9a703424",
   "metadata": {},
   "outputs": [],
   "source": [
    "data.to_csv(\"data_nettoyee_classe.csv\", index=False)"
   ]
  }
 ],
 "metadata": {
  "kernelspec": {
   "display_name": "Python 3 (ipykernel)",
   "language": "python",
   "name": "python3"
  },
  "language_info": {
   "codemirror_mode": {
    "name": "ipython",
    "version": 3
   },
   "file_extension": ".py",
   "mimetype": "text/x-python",
   "name": "python",
   "nbconvert_exporter": "python",
   "pygments_lexer": "ipython3",
   "version": "3.8.12"
  }
 },
 "nbformat": 4,
 "nbformat_minor": 5
}
