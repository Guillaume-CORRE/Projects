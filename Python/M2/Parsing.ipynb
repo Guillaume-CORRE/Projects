{
 "cells": [
  {
   "cell_type": "code",
   "execution_count": 27,
   "id": "dc420f7b-8ea9-4082-a2dc-dd3e2f089cdc",
   "metadata": {},
   "outputs": [],
   "source": [
    "from selenium import webdriver\n",
    "from selenium.webdriver.common.keys import Keys\n",
    "from selenium.webdriver.common.by import By\n",
    "from bs4 import BeautifulSoup as BS\n",
    "from unidecode import unidecode\n",
    "from typing import List, Dict\n",
    "import re\n",
    "import os \n",
    "import json"
   ]
  },
  {
   "cell_type": "markdown",
   "id": "c98bd27a-388e-4ebe-b77d-c4ea8d202a4f",
   "metadata": {},
   "source": [
    "# CDiscount"
   ]
  },
  {
   "cell_type": "markdown",
   "id": "3e315bb2-5057-4489-b88d-1670d0160d0e",
   "metadata": {},
   "source": [
    "## Parsing"
   ]
  },
  {
   "cell_type": "code",
   "execution_count": 5,
   "id": "344bbc42-67e6-4841-b00c-f8cf0c9af8bd",
   "metadata": {},
   "outputs": [],
   "source": [
    "elements_description=[\"Processeur\", \"RAM\", \"Résolution\", \"Stockage principal\",\n",
    "          \"Durée de fonctionnement\", \"Système d'exploitation\", \"Poids\"]\n",
    "\n",
    "elements_table=[\"Marque\", \"CPU\", \"Nombre de coeurs\", \"Indice de réparabilité\", \"Grand écran\",\n",
    "               \"Caméra\", \"Son\", \"Lecteur de carte mémoire\", \"Capacité\", \"Interfaces\", \"Taille écran\"]\n",
    "\n",
    "elements_table_2=[\"Processeur\", \"RAM\", \"Résolution\", \"Stockage principal\",\n",
    "                  \"Durée de fonctionnement\", \"Système d'exploitation\", \"Poids\",\n",
    "                  \"Marque\", \"CPU\", \"Nombre de coeurs\", \"Indice de réparabilité\", \"Grand écran\",\n",
    "                  \"Caméra\", \"Son\", \"Lecteur de carte mémoire\", \"Capacité\", \"Interfaces\", \"Taille écran\"]"
   ]
  },
  {
   "cell_type": "code",
   "execution_count": 19,
   "id": "ecc19ec1-d5d0-4803-bcc1-b5d9e2e69dd3",
   "metadata": {},
   "outputs": [],
   "source": [
    "def test_description(description: BS)->str:\n",
    "    \"\"\" Fonction permettant de déterminer si nous avons un premier tableau avec des\n",
    "    informations nécéssaires ou non. Renvoi oui ou non\n",
    "    \"\"\"\n",
    "    test = description.get_text() == \"Les points forts :\"\n",
    "    if test  == True:\n",
    "        on_continue = \"oui\"\n",
    "    else:\n",
    "        on_continue = \"non\"\n",
    "    return(on_continue)"
   ]
  },
  {
   "cell_type": "code",
   "execution_count": 40,
   "id": "081f977a-8436-4104-bfab-581045f1b03e",
   "metadata": {},
   "outputs": [],
   "source": [
    "def donnees_description(elements_description:list, description:BS, caractéristiques:dict)->dict:\n",
    "    \"\"\" Fonction permettant de récupérer les élements de la liste descrpition et leurs valeurs\n",
    "     Renvoi un dictionnaire rempli avec l'élément et sa valeur.\n",
    "    \"\"\"\n",
    "    lignes = description.parent.find_all(\"li\")\n",
    "\n",
    "    liste=[]\n",
    "    for ligne in lignes:\n",
    "        liste.append(ligne.get_text(strip=True))\n",
    "\n",
    "    for element in elements_description:\n",
    "        str_match = list(filter(lambda x: element in x, liste))\n",
    "        if not str_match:\n",
    "            caractéristiques[element] = \"None\"\n",
    "        else:\n",
    "            caractéristiques[element] = str_match[0][len(element)+3:]\n",
    "    return(caractéristiques)\n",
    "    "
   ]
  },
  {
   "cell_type": "code",
   "execution_count": 23,
   "id": "092a71fd-b9c2-415b-85e7-0b454bda6909",
   "metadata": {},
   "outputs": [],
   "source": [
    "def note(soupe:BS, caractéristiques:dict)->dict:\n",
    "    \"\"\" Fonction permettant de récupérer la note associé à l'article\n",
    "    Remplie le dictionnaire contenant les informations liés à l'article en ajoutant la note.\n",
    "    \"\"\"\n",
    "    try: \n",
    "        note = soupe.find_all(attrs={\"itemprop\": [\"ratingValue\"]})[0].get_text(strip=True)\n",
    "        caractéristiques[\"Note\"] = note\n",
    "    except:\n",
    "        caractéristiques[\"Note\"] = \"None\""
   ]
  },
  {
   "cell_type": "code",
   "execution_count": 24,
   "id": "ddf6ce50-0d1e-4db4-a700-439add33bebb",
   "metadata": {},
   "outputs": [],
   "source": [
    "def prix(soupe:BS, caractéristiques:dict)->dict:\n",
    "    \"\"\" Fonction permettant de récupérer le prix associé à l'article\n",
    "    Remplie le dictionnaire contenant les informations liés à l'article en ajoutant le prix.\n",
    "    \"\"\"\n",
    "    prix = soupe.find_all(attrs={\"itemprop\": [\"price\"]})[0]\n",
    "    prix = list(prix)\n",
    "    caractéristiques[\"Prix\"] = prix[0]\n",
    "    return(caractéristiques)"
   ]
  },
  {
   "cell_type": "code",
   "execution_count": 25,
   "id": "612aa4c3-bb37-45f0-8b5c-2c6b07ce707e",
   "metadata": {},
   "outputs": [],
   "source": [
    "def donnees_table(soupe:BS, elements_table:list, caractéristiques:dict)->dict:\n",
    "    \"\"\" Fonction permettant de récupérer les informations qui sont dans la table de description\n",
    "    de l'article en fin de page. Récupère des élements différent en fonctions du\n",
    "    résultat du test de description. Rempli le dictionnaire avec les nouveaux éléments.\n",
    "    \"\"\"\n",
    "    liste_table=[]\n",
    "\n",
    "    table = soupe.find_all(name=\"table\")[0]\n",
    "    lignes_table = table.tbody.find_all(\"tr\")\n",
    "    header, *lignes_table = lignes_table\n",
    "    \n",
    "    for ligne_table in lignes_table:\n",
    "        liste_table.append(ligne_table.get_text(strip=True))\n",
    "        \n",
    "    for element_table in elements_table:\n",
    "        if element_table==\"Taille écran\":\n",
    "            regex = re.compile(r'Type[0-9]')\n",
    "            str_match = [z for z in liste_table if regex.match(z)]\n",
    "            if not str_match:\n",
    "                caractéristiques[element_table] = \"None\"\n",
    "            else:\n",
    "                caractéristiques[element_table] = str_match[0][len(\"Type\"):]\n",
    "        else:\n",
    "            str_match = list(filter(lambda x: element_table in x, liste_table))\n",
    "            if not str_match:\n",
    "                caractéristiques[element_table] = \"None\"\n",
    "            else:\n",
    "                caractéristiques[element_table] = str_match[0][len(element_table):]\n",
    "        \n",
    "    return(caractéristiques)"
   ]
  },
  {
   "cell_type": "code",
   "execution_count": 32,
   "id": "b5a65ebf-e440-4cf4-a764-f2da69cda395",
   "metadata": {},
   "outputs": [],
   "source": [
    "def parsing(elements_description:list, elements_table:list, elements_table_2:list)->List[Dict[str,str]]:\n",
    "    \"\"\" Fonction permettant de récupérer le backup html, de récupérer les informations voulues\n",
    "    et de les ranger dans une liste de dictionnaire. Chaque dictionnaire équivaut à un article.\n",
    "    \"\"\"\n",
    "    donnees=[]\n",
    "    for j in range(1,20):\n",
    "        for i in range(1,42):\n",
    "            caractéristiques={}\n",
    "            path = f\"C:/Users/Guillaume CORRE/Machine_learning/Projet/Page_{j}\"\n",
    "            with open(path + f\"/article_{i}.html\", \"r\", encoding=\"utf8\") as fichier:\n",
    "                code = fichier.read()\n",
    "                soupe=BS(code, \"lxml\")\n",
    "                description = soupe.find_all(attrs={\"class\": [\"fpBlocTitle\"]})[0]\n",
    "                test_description(description)\n",
    "\n",
    "                if (test_description(description)) == \"oui\":\n",
    "                    prix(soupe, caractéristiques)\n",
    "                    note(soupe, caractéristiques)\n",
    "                    donnees_description(elements_description, description, caractéristiques)\n",
    "                    donnees_table(soupe, elements_table, caractéristiques)\n",
    "                    donnees.append(caractéristiques)\n",
    "\n",
    "                else:\n",
    "                    prix(soupe, caractéristiques)\n",
    "                    note(soupe, caractéristiques)\n",
    "                    donnees_table(soupe, elements_table_2, caractéristiques)\n",
    "                    donnees.append(caractéristiques)\n",
    "                    \n",
    "                \n",
    "    return donnees\n",
    "                \n",
    "        "
   ]
  },
  {
   "cell_type": "code",
   "execution_count": 31,
   "id": "9b8ba466-4562-4d03-a59c-026e0701723d",
   "metadata": {},
   "outputs": [],
   "source": [
    "with open('data.json', 'w', encoding=\"utf8\") as fp:\n",
    "    json.dump(parsing(elements_description, elements_table, elements_table_2), fp)"
   ]
  },
  {
   "cell_type": "markdown",
   "id": "881a9e32-faa6-45db-b405-84087cfc56c4",
   "metadata": {},
   "source": [
    "# Amazon"
   ]
  },
  {
   "cell_type": "code",
   "execution_count": 40,
   "id": "5278f3ac-d8b4-47e9-95cc-1ed91535f9f0",
   "metadata": {},
   "outputs": [],
   "source": [
    "elements_detail=[\"Type de processeur\", \"Taille de la mémoire vive\", \"Résolution de l'écran\", \"Taille du disque dur\",\n",
    "                  \"Durée de vie moyenne (en heures)\", \"Système d'exploitation\", \"Poids du produit\",\n",
    "                  \"Marque\", \"séries\", \"Marque du processeur\", \"Nombre de coeurs\", \"GPU\", \"Logiciels inclus\",\n",
    "                 \"Interface du matériel informatique\", \"Taille de l'écran\", \"couleur\", \"Nombre de ports HDMI\", \"Nombre de ports USB\",\n",
    "                \"Type de connecteur\", \"Resolution\"]\n",
    "\n",
    "elements_detail_apple=[\"Fabricant de CPU\", \"Taille de la mémoire vive\", \"Résolution de l'écran\", \"Taille du disque dur\",\n",
    "                  \"Durée de vie moyenne (en heures)\", \"Système d'exploitation\", \"Poids du produit\",\n",
    "                  \"Marque\", \"Nom de modèle\", \"Marque du processeur\", \"Nombre de coeurs\", \"GPU\", \"Logiciels inclus\",\n",
    "                 \"Entrée de l'interface humaine\", \"Taille de l'écran\", \"couleur\", \"Nombre de ports HDMI\", \"Nombre de ports USB\",\n",
    "                \"Type de connecteur\", \"Resolution\"]"
   ]
  },
  {
   "cell_type": "code",
   "execution_count": 34,
   "id": "83bfae55-2981-4e01-9cc3-5663877595da",
   "metadata": {},
   "outputs": [],
   "source": [
    "def donnees_detail(soupe:BS, element_detail:list, element_detail_apple:list, caractéristiques_amazon:dict)->dict:\n",
    "    \"\"\" Fonction permettant de récupérer les informations qui sont dans la table de description\n",
    "    de l'article en fin de page. Récupère des informations différente en fonction que \n",
    "    l'article soit apple ou non.Rempli le dictionnaire avec les nouveaux éléments.\n",
    "    \"\"\"\n",
    "    detail = soupe.find_all(attrs={\"id\": [\"productDetails_techSpec_section_1\"]})\n",
    "    \n",
    "    if len(detail) == 0:\n",
    "        detail_apple = soupe.find_all(attrs={\"class\": [\"a-normal a-spacing-micro\"]})[0] \n",
    "        \n",
    "        lignes_detail_apple = detail_apple.tbody.find_all(\"tr\")\n",
    "        liste_detail_apple=[]\n",
    "        for ligne_detail_apple in lignes_detail_apple:\n",
    "            liste_detail_apple.append(ligne_detail_apple.get_text(strip=True))\n",
    "        \n",
    "        for element_detail in elements_detail_apple:\n",
    "            str_match = list(filter(lambda x: element_detail in x, liste_detail_apple))\n",
    "            if not str_match:\n",
    "                caractéristiques_amazon[element_detail] = \"None\"\n",
    "            else:\n",
    "                caractéristiques_amazon[element_detail] = str_match[0][len(element_detail):]\n",
    "    else :     \n",
    "        detail = detail[0]\n",
    "        lignes_detail = detail.tbody.find_all(\"tr\")\n",
    "\n",
    "        liste_detail=[]\n",
    "        for ligne_detail in lignes_detail:\n",
    "            liste_detail.append(ligne_detail.get_text(strip=True))\n",
    "\n",
    "        for element_detail in elements_detail:\n",
    "            str_match = list(filter(lambda x: element_detail in x, liste_detail))\n",
    "            if not str_match:\n",
    "                caractéristiques_amazon[element_detail] = \"None\"\n",
    "            else:\n",
    "                caractéristiques_amazon[element_detail] = str_match[0][len(element_detail)+1:]\n"
   ]
  },
  {
   "cell_type": "markdown",
   "id": "3284431f-80f7-4249-b098-efbff3743d0c",
   "metadata": {},
   "source": [
    "## Prix"
   ]
  },
  {
   "cell_type": "code",
   "execution_count": 35,
   "id": "f890d085-32ca-461c-af12-4833abb234ac",
   "metadata": {},
   "outputs": [],
   "source": [
    "def prix_amazon(soupe:BS, caractéristiques_amazon:dict)->dict:\n",
    "    \"\"\" Fonction permettant de récupérer le prix de l'article et le stock dans le dictionnaire\n",
    "    \"\"\"\n",
    "    prix_amazon = soupe.find_all(attrs={\"class\": [\"a-offscreen\"]})[0]\n",
    "    prix_amazon = list(prix_amazon)\n",
    "    caractéristiques_amazon[\"Prix\"] = prix_amazon[0]\n",
    "    return(caractéristiques_amazon)"
   ]
  },
  {
   "cell_type": "markdown",
   "id": "718df699-3331-42e4-b3b1-0bc8e4f5d196",
   "metadata": {},
   "source": [
    "## Note"
   ]
  },
  {
   "cell_type": "code",
   "execution_count": 36,
   "id": "3bd63f34-0a15-4ceb-b673-37ff37f53783",
   "metadata": {},
   "outputs": [],
   "source": [
    "def note_amazon(soupe:BS, caractéristiques_amazon:dict)->dict:\n",
    "    \"\"\" Fonction permettant de récupérer la note de l'article et la stock dans le dictionnaire\n",
    "    \"\"\"\n",
    "    try: \n",
    "        note_amazon = soupe.find_all(attrs={\"data-hook\": [\"average-star-rating\"]})[0].get_text(strip=True)\n",
    "        caractéristiques_amazon[\"Note\"] = note_amazon\n",
    "    except:\n",
    "        caractéristiques_amazon[\"Note\"] = \"None\""
   ]
  },
  {
   "cell_type": "markdown",
   "id": "31f7593c-a0ce-4fe8-b055-bd17ad8dfab5",
   "metadata": {},
   "source": [
    "## Fonction final"
   ]
  },
  {
   "cell_type": "code",
   "execution_count": 39,
   "id": "fff1f514-1e0e-4c7b-a82b-d3fd77342a4d",
   "metadata": {},
   "outputs": [],
   "source": [
    "def parsing_amazon(element_detail:list, element_detail_apple:list)->List[Dict[str,str]]:\n",
    "    \"\"\" Fonction permettant de récupérer les informations de tous les backup html amazon\n",
    "     et renvoie une liste de dictionnaire.\n",
    "    \"\"\"\n",
    "    donnees_amazon=[]\n",
    "    for j in range(1,8):\n",
    "        if j == 7:\n",
    "            taille=range(1,15)\n",
    "        else:\n",
    "            taille = range(1,41)\n",
    "        for i in taille:\n",
    "            caractéristiques_amazon={}\n",
    "            path = f\"C:/Users/Guillaume CORRE/Machine_learning/Projet/Pageamazon_{j}\"\n",
    "            with open(path + f\"/article_{i}.html\", \"r\", encoding=\"utf8\") as fichier:\n",
    "                code = fichier.read()\n",
    "                soupe=BS(code, \"lxml\")\n",
    "                prix_amazon(soupe, caractéristiques_amazon)\n",
    "                note_amazon(soupe, caractéristiques_amazon)\n",
    "                donnees_detail(soupe, elements_detail, element_detail_apple, caractéristiques_amazon)\n",
    "                donnees_amazon.append(caractéristiques_amazon)\n",
    "                    \n",
    "    return donnees_amazon"
   ]
  },
  {
   "cell_type": "code",
   "execution_count": 50,
   "id": "606e979d-a5e4-49ed-8844-6f3e37bafdaf",
   "metadata": {},
   "outputs": [],
   "source": [
    "with open('data_amazon.json', 'w', encoding=\"utf8\") as fp:\n",
    "    json.dump(parsing_amazon(elements_detail, elements_detail_apple), fp)"
   ]
  }
 ],
 "metadata": {
  "kernelspec": {
   "display_name": "Python 3 (ipykernel)",
   "language": "python",
   "name": "python3"
  },
  "language_info": {
   "codemirror_mode": {
    "name": "ipython",
    "version": 3
   },
   "file_extension": ".py",
   "mimetype": "text/x-python",
   "name": "python",
   "nbconvert_exporter": "python",
   "pygments_lexer": "ipython3",
   "version": "3.8.12"
  }
 },
 "nbformat": 4,
 "nbformat_minor": 5
}
